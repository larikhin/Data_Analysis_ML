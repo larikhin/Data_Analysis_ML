{
 "cells": [
  {
   "cell_type": "markdown",
   "metadata": {
    "id": "xVDPwQmEcIpT"
   },
   "source": [
    "В этом блокноте мы постараемся отобразить начальные моменты, связанные с языком программирования Python"
   ]
  },
  {
   "cell_type": "markdown",
   "metadata": {
    "id": "5jfe2cjkcYna"
   },
   "source": [
    "Сначала научимся определять текущую версию Python, используемую в googleColab"
   ]
  },
  {
   "cell_type": "code",
   "execution_count": null,
   "metadata": {
    "colab": {
     "base_uri": "https://localhost:8080/"
    },
    "executionInfo": {
     "elapsed": 289,
     "status": "ok",
     "timestamp": 1632159234894,
     "user": {
      "displayName": "Антон Бойцев",
      "photoUrl": "https://lh3.googleusercontent.com/a/default-user=s64",
      "userId": "13003650934133023670"
     },
     "user_tz": -180
    },
    "id": "ww9TsiQ_cWzZ",
    "outputId": "a39ad720-c15b-4dc5-9fe2-a47f26695714"
   },
   "outputs": [
    {
     "name": "stdout",
     "output_type": "stream",
     "text": [
      "Python 3.7.12\n"
     ]
    }
   ],
   "source": [
    "!python --version"
   ]
  },
  {
   "cell_type": "markdown",
   "metadata": {
    "id": "PDaZnaOXcsDg"
   },
   "source": [
    "Как же без первой программы на любом языке программирования? Выведем на экран фразу \"Hello World!\". Обратите внимание, текстовая информация (строковая) обрамляется одиночными апострофами."
   ]
  },
  {
   "cell_type": "code",
   "execution_count": null,
   "metadata": {
    "colab": {
     "base_uri": "https://localhost:8080/"
    },
    "executionInfo": {
     "elapsed": 268,
     "status": "ok",
     "timestamp": 1632159305575,
     "user": {
      "displayName": "Антон Бойцев",
      "photoUrl": "https://lh3.googleusercontent.com/a/default-user=s64",
      "userId": "13003650934133023670"
     },
     "user_tz": -180
    },
    "id": "5KhZQV3XcrRa",
    "outputId": "ac534cd9-7e83-48b6-d964-8f1d2b0b1879"
   },
   "outputs": [
    {
     "name": "stdout",
     "output_type": "stream",
     "text": [
      "Hello World!\n"
     ]
    }
   ],
   "source": [
    "print('Hello World!')"
   ]
  },
  {
   "cell_type": "markdown",
   "metadata": {
    "id": "_TLDGK2_dEEo"
   },
   "source": [
    "Теперь научимся выполнять некоторые простейшие арифметические операции:"
   ]
  },
  {
   "cell_type": "code",
   "execution_count": null,
   "metadata": {
    "colab": {
     "base_uri": "https://localhost:8080/"
    },
    "executionInfo": {
     "elapsed": 251,
     "status": "ok",
     "timestamp": 1632159327777,
     "user": {
      "displayName": "Антон Бойцев",
      "photoUrl": "https://lh3.googleusercontent.com/a/default-user=s64",
      "userId": "13003650934133023670"
     },
     "user_tz": -180
    },
    "id": "qR9I7MG_dDB8",
    "outputId": "c1a8441c-f8d8-4696-ced1-040323b258e6"
   },
   "outputs": [
    {
     "name": "stdout",
     "output_type": "stream",
     "text": [
      "12\n",
      "30\n",
      "20.0\n",
      "16\n"
     ]
    }
   ],
   "source": [
    "print(5 + 7) # сумма двух чисел\n",
    "print(5 * 6) # произведение двух чисел\n",
    "print(100 / 5) # частное двух чисел\n",
    "print(2 ** 4) # возведение числа 2 в степень 4"
   ]
  },
  {
   "cell_type": "markdown",
   "metadata": {
    "id": "XcyiW-9weu5d"
   },
   "source": [
    "Обратите внимание, третье выведенное число имеет другой формат, нежели остальные. Все потому, что частное целых чисел может быть числом не целым, в остальных приведенных операциях такая ситуация оказывается невозможной."
   ]
  },
  {
   "cell_type": "markdown",
   "metadata": {
    "id": "mvsTVSy7fp6a"
   },
   "source": [
    "Часто бывает необходимым использовать одни и те же данные в нескольких местах. Чтобы не писать сами данные явно, их можно хранить в специально созданной переменной."
   ]
  },
  {
   "cell_type": "code",
   "execution_count": null,
   "metadata": {
    "colab": {
     "base_uri": "https://localhost:8080/"
    },
    "executionInfo": {
     "elapsed": 251,
     "status": "ok",
     "timestamp": 1632159384961,
     "user": {
      "displayName": "Антон Бойцев",
      "photoUrl": "https://lh3.googleusercontent.com/a/default-user=s64",
      "userId": "13003650934133023670"
     },
     "user_tz": -180
    },
    "id": "_Ot5uPBDflhh",
    "outputId": "132c5ea1-703f-456a-db00-465c5bf11b51"
   },
   "outputs": [
    {
     "name": "stdout",
     "output_type": "stream",
     "text": [
      "11\n",
      "30\n"
     ]
    }
   ],
   "source": [
    "a = 5\n",
    "b = 6\n",
    "sum = a + b\n",
    "print(sum)\n",
    "print(a * b)"
   ]
  },
  {
   "cell_type": "markdown",
   "metadata": {
    "id": "rpCtDNXCP4xo"
   },
   "source": [
    "Конечно, вычислительные возможности Python не ограничиваются арифметическими операциями. Для доступа к дополнительным функциям импортируем библиотеку math."
   ]
  },
  {
   "cell_type": "code",
   "execution_count": null,
   "metadata": {
    "id": "EmK3HKw9hbtS"
   },
   "outputs": [],
   "source": [
    "import math as mt"
   ]
  },
  {
   "cell_type": "markdown",
   "metadata": {
    "id": "1Ufq7zSVQRvr"
   },
   "source": [
    "Например, для вычисления $\\sin(45^o) = \\sin \\frac{\\pi}{4}$ можно воспользоваться следующей командой:"
   ]
  },
  {
   "cell_type": "code",
   "execution_count": null,
   "metadata": {
    "colab": {
     "base_uri": "https://localhost:8080/"
    },
    "executionInfo": {
     "elapsed": 239,
     "status": "ok",
     "timestamp": 1632159472209,
     "user": {
      "displayName": "Антон Бойцев",
      "photoUrl": "https://lh3.googleusercontent.com/a/default-user=s64",
      "userId": "13003650934133023670"
     },
     "user_tz": -180
    },
    "id": "7cLg08PEQdNJ",
    "outputId": "69bd70d6-8836-4d01-a1a7-8f8aca48f0ab"
   },
   "outputs": [
    {
     "data": {
      "text/plain": [
       "0.7071067811865475"
      ]
     },
     "execution_count": 23,
     "metadata": {},
     "output_type": "execute_result"
    }
   ],
   "source": [
    "mt.sin(mt.pi/4)"
   ]
  },
  {
   "cell_type": "markdown",
   "metadata": {
    "id": "nUadBNB8Qw2R"
   },
   "source": [
    "Есть и другие занятные функции, например, факториал. Напомним, что факториал числа $n$ определяется следующим образом:\n",
    "$$\n",
    "n! = 1 \\cdot 2 \\cdot 3 \\cdot ... \\cdot n,\n",
    "$$\n",
    "при этом по определению полагают, что $0! = 1$. Например, $5! = 1 \\cdot 2 \\cdot 3 \\cdot 4 \\cdot 5 = 120$."
   ]
  },
  {
   "cell_type": "code",
   "execution_count": null,
   "metadata": {
    "colab": {
     "base_uri": "https://localhost:8080/"
    },
    "executionInfo": {
     "elapsed": 242,
     "status": "ok",
     "timestamp": 1632159503462,
     "user": {
      "displayName": "Антон Бойцев",
      "photoUrl": "https://lh3.googleusercontent.com/a/default-user=s64",
      "userId": "13003650934133023670"
     },
     "user_tz": -180
    },
    "id": "QlKP95Akihvp",
    "outputId": "c97612af-82b9-4aac-f1b3-fd2c907c007c"
   },
   "outputs": [
    {
     "data": {
      "text/plain": [
       "120"
      ]
     },
     "execution_count": 24,
     "metadata": {},
     "output_type": "execute_result"
    }
   ],
   "source": [
    "mt.factorial(5)"
   ]
  },
  {
   "cell_type": "markdown",
   "metadata": {
    "id": "bLwL8eiNgYc-"
   },
   "source": [
    "Теперь, обогатившись знаниями, давайте научимся вычислять что-то более озорное. Известно, что процессор умеет выполнять стандартные арифметические операции. Но как же он вычисляет, например, $e^{2.7}$? Здесь нам поможет математический анализ. Оказывается, почти любая элементарная функция, в том числе и экспонента, есть не что иное, как многочлен \"бесконечной\" степени. В частности,\n",
    "$$\n",
    "e^x = 1 + x + \\frac{x^2}{2!} + \\frac{x^3}{3!} + \\frac{x^4}{4!} + ...,\n",
    "$$\n",
    " Видно, что для вычисления значения экспоненты достаточно проделать лишь простейшие арифметические операции: сложение и умножение."
   ]
  },
  {
   "cell_type": "markdown",
   "metadata": {
    "id": "K1n9XqtvizzX"
   },
   "source": [
    "Давайте вычислим приближенное значение $e^{2.7}$, используя первые семь слагаемых:\n",
    "$$\n",
    "e^{2.7} \\approx 1 + 2.7 + \\frac{2.7^2}{2!} + \\frac{2.7^3}{3!} + \\frac{2.7^4}{4!} + \\frac{2.7^5}{5!} + \\frac{2.7^6}{6!}.\n",
    "$$"
   ]
  },
  {
   "cell_type": "code",
   "execution_count": null,
   "metadata": {
    "colab": {
     "base_uri": "https://localhost:8080/"
    },
    "executionInfo": {
     "elapsed": 252,
     "status": "ok",
     "timestamp": 1632159623260,
     "user": {
      "displayName": "Антон Бойцев",
      "photoUrl": "https://lh3.googleusercontent.com/a/default-user=s64",
      "userId": "13003650934133023670"
     },
     "user_tz": -180
    },
    "id": "qcvau-m0iyMq",
    "outputId": "7b19bf3f-44c6-412d-f0eb-dd4ae00ca516"
   },
   "outputs": [
    {
     "data": {
      "text/plain": [
       "14.573663762500003"
      ]
     },
     "execution_count": 25,
     "metadata": {},
     "output_type": "execute_result"
    }
   ],
   "source": [
    "x = 2.7\n",
    "exp = 1 + x + x ** 2/mt.factorial(2) + x ** 3/mt.factorial(3) + x ** 4/mt.factorial(4) + x ** 5/mt.factorial(5) + x ** 6/mt.factorial(6)\n",
    "exp"
   ]
  },
  {
   "cell_type": "markdown",
   "metadata": {
    "id": "hvOHqen3jUMG"
   },
   "source": [
    "Посмотрим теперь на \"истинное значение\" $e^{2.7}$"
   ]
  },
  {
   "cell_type": "code",
   "execution_count": null,
   "metadata": {
    "colab": {
     "base_uri": "https://localhost:8080/"
    },
    "executionInfo": {
     "elapsed": 255,
     "status": "ok",
     "timestamp": 1632159649399,
     "user": {
      "displayName": "Антон Бойцев",
      "photoUrl": "https://lh3.googleusercontent.com/a/default-user=s64",
      "userId": "13003650934133023670"
     },
     "user_tz": -180
    },
    "id": "kZ8-w1gRjT92",
    "outputId": "4f9da933-c7e4-4ddb-8929-c24d37eae555"
   },
   "outputs": [
    {
     "data": {
      "text/plain": [
       "14.879731724872837"
      ]
     },
     "execution_count": 26,
     "metadata": {},
     "output_type": "execute_result"
    }
   ],
   "source": [
    "mt.exp(2.7)"
   ]
  },
  {
   "cell_type": "markdown",
   "metadata": {
    "id": "gfb1KegMj015"
   },
   "source": [
    "Конечно, если бы мы хотели написать сумму первых ста слагаемых, то это бы оказалось чрезвычайно трудозотратно. Оказывается, рутинную работу можно поручить компьютеру, если использовать циклы."
   ]
  },
  {
   "cell_type": "code",
   "execution_count": null,
   "metadata": {
    "colab": {
     "base_uri": "https://localhost:8080/"
    },
    "executionInfo": {
     "elapsed": 4,
     "status": "ok",
     "timestamp": 1632159820398,
     "user": {
      "displayName": "Антон Бойцев",
      "photoUrl": "https://lh3.googleusercontent.com/a/default-user=s64",
      "userId": "13003650934133023670"
     },
     "user_tz": -180
    },
    "id": "_XCNeeB4juz1",
    "outputId": "92354b58-6c2d-437e-d2e7-c5b42265a6f2"
   },
   "outputs": [
    {
     "data": {
      "text/plain": [
       "14.573663762500003"
      ]
     },
     "execution_count": 27,
     "metadata": {},
     "output_type": "execute_result"
    }
   ],
   "source": [
    "n = 7 # количество слагаемых\n",
    "x = 2.7 # аргумент, в котором вычисляем значение функции\n",
    "exp = 0 # переменная, накапливающая значение\n",
    "for i in range(0, n): # переменная поочередно принимает значения 0, 1, ..., (n - 1)\n",
    "  exp = exp + x ** i/mt.factorial(i) # накапливаем значение экспоненты\n",
    "exp"
   ]
  },
  {
   "cell_type": "markdown",
   "metadata": {
    "id": "Tj9tuMbWkiZn"
   },
   "source": [
    "Выражение в теле цикла можно упростить еще больше:"
   ]
  },
  {
   "cell_type": "code",
   "execution_count": null,
   "metadata": {
    "colab": {
     "base_uri": "https://localhost:8080/"
    },
    "executionInfo": {
     "elapsed": 243,
     "status": "ok",
     "timestamp": 1632159856979,
     "user": {
      "displayName": "Антон Бойцев",
      "photoUrl": "https://lh3.googleusercontent.com/a/default-user=s64",
      "userId": "13003650934133023670"
     },
     "user_tz": -180
    },
    "id": "U2jH727Nkrcn",
    "outputId": "07e1465a-721b-4746-da64-98b6883952c9"
   },
   "outputs": [
    {
     "data": {
      "text/plain": [
       "14.573663762500003"
      ]
     },
     "execution_count": 28,
     "metadata": {},
     "output_type": "execute_result"
    }
   ],
   "source": [
    "n = 7 # количество слагаемых\n",
    "x = 2.7 # аргумент, в котором вычисляем значение функции\n",
    "exp = 0 # переменная, накапливающая значение\n",
    "for i in range(0, n): # переменная поочередно принимает значения 0, 1, ..., (n - 1)\n",
    "  exp += x ** i/mt.factorial(i) # накапливаем значение экспоненты\n",
    "exp"
   ]
  },
  {
   "cell_type": "markdown",
   "metadata": {
    "id": "uhMQnwrdlmj0"
   },
   "source": [
    "Понятно, что каждый раз копировать код, менять переменную — очень неудобно. Для упрощения жизни придумали так называемые функции:"
   ]
  },
  {
   "cell_type": "code",
   "execution_count": null,
   "metadata": {
    "id": "sWiGCl7eljv1"
   },
   "outputs": [],
   "source": [
    "def my_exp(n, x): # название функции и принимаемые ею аргументы; n – количество используемых слагаемых, x – аргумент экспоненты\n",
    "  exp = 0 # переменная, накапливающая значение\n",
    "  for i in range(0, n):\n",
    "    exp += x ** i/mt.factorial(i) # накапливаем значение экспоненты\n",
    "  return exp"
   ]
  },
  {
   "cell_type": "markdown",
   "metadata": {
    "id": "-2N8Ne9CmXGJ"
   },
   "source": [
    "Теперь мы без труда можем видеть, как меняется приближенное значение $e^{2.7}$ по мере изменения количества слагаемых:"
   ]
  },
  {
   "cell_type": "code",
   "execution_count": null,
   "metadata": {
    "colab": {
     "base_uri": "https://localhost:8080/"
    },
    "executionInfo": {
     "elapsed": 264,
     "status": "ok",
     "timestamp": 1632159936513,
     "user": {
      "displayName": "Антон Бойцев",
      "photoUrl": "https://lh3.googleusercontent.com/a/default-user=s64",
      "userId": "13003650934133023670"
     },
     "user_tz": -180
    },
    "id": "wb-d761emWbc",
    "outputId": "a4bda747-27a6-409c-8cd5-c18bce50dc1a"
   },
   "outputs": [
    {
     "name": "stdout",
     "output_type": "stream",
     "text": [
      "14.573663762500003\n",
      "14.879731724673082\n",
      "14.879731724872837\n"
     ]
    }
   ],
   "source": [
    "print(my_exp(7, 2.7))\n",
    "print(my_exp(20, 2.7))\n",
    "print(my_exp(100, 2.7))"
   ]
  },
  {
   "cell_type": "markdown",
   "metadata": {
    "id": "9bQI4Drqm0xg"
   },
   "source": [
    "Теперь обсудим операторы ветвления. Оказывается, компьютер может принимать решения самостоятельно, если научить его смотреть на истинность тех или иных флагов. Скажем, мы видим, что в примере выше разница между $20$ слагаемыми и $100$ слагаемыми при вычислении значения экспоненты совершенно незначительна. Зачем же тогда проводить лишние вычисления?"
   ]
  },
  {
   "cell_type": "code",
   "execution_count": null,
   "metadata": {
    "id": "50tZg4Xpn59n"
   },
   "outputs": [],
   "source": [
    "def my_exp(n, x, error): # название функции и принимаемые ею аргументы; n – количество используемых слагаемых, x – аргумент экспоненты\n",
    "  exp = 0 \n",
    "  true_exp = mt.exp(x) # \"истинное\" значение функции\n",
    "  for i in range(0, n):\n",
    "    exp += x ** i/mt.factorial(i) # накапливаем значение экспоненты\n",
    "    if (abs(exp - true_exp) < error): # проверка: а вдруг мы достигли заданной точности?\n",
    "      return exp, 'Количество слагаемых: ' + str(i)\n",
    "  return exp, 'Точность не достигнута'"
   ]
  },
  {
   "cell_type": "code",
   "execution_count": null,
   "metadata": {
    "colab": {
     "base_uri": "https://localhost:8080/"
    },
    "executionInfo": {
     "elapsed": 256,
     "status": "ok",
     "timestamp": 1632160118360,
     "user": {
      "displayName": "Антон Бойцев",
      "photoUrl": "https://lh3.googleusercontent.com/a/default-user=s64",
      "userId": "13003650934133023670"
     },
     "user_tz": -180
    },
    "id": "VWRQSl3kqDit",
    "outputId": "00aeed0a-afb5-492c-bf59-7a086548d7c9"
   },
   "outputs": [
    {
     "name": "stdout",
     "output_type": "stream",
     "text": [
      "(12.839837500000002, 'Точность не достигнута')\n",
      "(14.879731653749694, 'Количество слагаемых: 16')\n"
     ]
    }
   ],
   "source": [
    "print(my_exp(5, 2.7, 0.0000001))\n",
    "print(my_exp(100, 2.7, 0.0000001))"
   ]
  },
  {
   "cell_type": "markdown",
   "metadata": {
    "id": "n7mYs1UAqjwa"
   },
   "source": [
    "Продемонстрируем удобство оператора ветвления, решив следующую задачу.\n",
    "\n",
    "При помощи Python опишите функцию solver, которая выдает решения уравнения \n",
    "$$\n",
    "ax = b.\n",
    "$$ \n",
    "Входными параметрами для функции служат числа $a, b$, возвращать функция должна значение $x$. Если уравнение имеет бесконечное множество решений, то функция должна возвращать текстовую строку Any (с большой буквы, без дополнительных символов). Если уравнение решений не имеет, то функция должна возвращать текстовую строку Error (с большой буквы, без дополнительных символов)."
   ]
  },
  {
   "cell_type": "markdown",
   "metadata": {
    "id": "vgirsCtWrHC3"
   },
   "source": [
    "Понятно, что если $a \\neq 0$, то $x = \\frac{b}{a}$. Например,\n",
    "$$\n",
    "3x = 4 \\ \\Rightarrow \\ x = \\frac{4}{3}.\n",
    "$$\n",
    "Если $a = 0$, то уравнение принимает вид \n",
    "$$\n",
    "0 \\cdot x = b,\n",
    "$$\n",
    "и оно не имеет решений при $b \\neq 0$, а при $b = 0$ оно имеет бесконечное число решений: подходит любое значение $x$."
   ]
  },
  {
   "cell_type": "code",
   "execution_count": null,
   "metadata": {
    "id": "evnHCTpYqjNm"
   },
   "outputs": [],
   "source": [
    "def solver(a, b):\n",
    "  if a != 0:\n",
    "    return b/a\n",
    "  if (a == 0) & (b != 0):\n",
    "    return 'Error'\n",
    "  if (a == 0) & (b == 0):\n",
    "    return 'Any'"
   ]
  },
  {
   "cell_type": "code",
   "execution_count": null,
   "metadata": {
    "colab": {
     "base_uri": "https://localhost:8080/"
    },
    "executionInfo": {
     "elapsed": 251,
     "status": "ok",
     "timestamp": 1632160320630,
     "user": {
      "displayName": "Антон Бойцев",
      "photoUrl": "https://lh3.googleusercontent.com/a/default-user=s64",
      "userId": "13003650934133023670"
     },
     "user_tz": -180
    },
    "id": "BoxZYoM9ry-F",
    "outputId": "4c0687fa-1b0f-4a7e-df7c-569bde97c675"
   },
   "outputs": [
    {
     "name": "stdout",
     "output_type": "stream",
     "text": [
      "1.3333333333333333\n",
      "Error\n",
      "Any\n"
     ]
    }
   ],
   "source": [
    "print(solver(3, 4))\n",
    "print(solver(0, 5))\n",
    "print(solver(0, 0))"
   ]
  }
 ],
 "metadata": {
  "colab": {
   "provenance": [
    {
     "file_id": "1o4vqTHoDVg4fW3nYfrIbFBMP2IdzLfUo",
     "timestamp": 1666946209376
    }
   ]
  },
  "kernelspec": {
   "display_name": "Python 3",
   "language": "python",
   "name": "python3"
  },
  "language_info": {
   "codemirror_mode": {
    "name": "ipython",
    "version": 3
   },
   "file_extension": ".py",
   "mimetype": "text/x-python",
   "name": "python",
   "nbconvert_exporter": "python",
   "pygments_lexer": "ipython3",
   "version": "3.8.5"
  }
 },
 "nbformat": 4,
 "nbformat_minor": 1
}
