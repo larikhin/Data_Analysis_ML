{
 "cells": [
  {
   "cell_type": "code",
   "execution_count": 1,
   "metadata": {},
   "outputs": [
    {
     "data": {
      "text/plain": [
       "[5, 4, 6, 2, 1, 1, 5, 2, 5, 9, 7]"
      ]
     },
     "execution_count": 1,
     "metadata": {},
     "output_type": "execute_result"
    }
   ],
   "source": [
    "a = [5,4,6,2,1,1,5,2,5,9,7]\n",
    "a"
   ]
  },
  {
   "cell_type": "code",
   "execution_count": 2,
   "metadata": {},
   "outputs": [],
   "source": [
    "import numpy as np\n",
    "import pandas as pd"
   ]
  },
  {
   "cell_type": "code",
   "execution_count": 3,
   "metadata": {},
   "outputs": [
    {
     "data": {
      "text/plain": [
       "0     5\n",
       "1     4\n",
       "2     6\n",
       "3     2\n",
       "4     1\n",
       "5     1\n",
       "6     5\n",
       "7     2\n",
       "8     5\n",
       "9     9\n",
       "10    7\n",
       "dtype: int64"
      ]
     },
     "execution_count": 3,
     "metadata": {},
     "output_type": "execute_result"
    }
   ],
   "source": [
    "a_ser = pd.Series(a)\n",
    "a_ser"
   ]
  },
  {
   "cell_type": "code",
   "execution_count": 4,
   "metadata": {},
   "outputs": [
    {
     "data": {
      "text/plain": [
       "count    11.000000\n",
       "mean      4.272727\n",
       "std       2.572583\n",
       "min       1.000000\n",
       "25%       2.000000\n",
       "50%       5.000000\n",
       "75%       5.500000\n",
       "max       9.000000\n",
       "dtype: float64"
      ]
     },
     "execution_count": 4,
     "metadata": {},
     "output_type": "execute_result"
    }
   ],
   "source": [
    "#Вычисление статистик для серии или фрейма\n",
    "a_ser.describe()"
   ]
  },
  {
   "cell_type": "code",
   "execution_count": 37,
   "metadata": {},
   "outputs": [
    {
     "name": "stdout",
     "output_type": "stream",
     "text": [
      "min = 1 max = 9\n"
     ]
    }
   ],
   "source": [
    "# Определение максимального и минимального значения\n",
    "mi = a_ser.min()\n",
    "ma = a_ser.max()\n",
    "print('min = '+ str(mi), 'max = ' + str(ma))"
   ]
  },
  {
   "cell_type": "code",
   "execution_count": 38,
   "metadata": {},
   "outputs": [
    {
     "data": {
      "text/plain": [
       "8"
      ]
     },
     "execution_count": 38,
     "metadata": {},
     "output_type": "execute_result"
    }
   ],
   "source": [
    "# Размах мах - мин\n",
    "r = ma - mi\n",
    "r"
   ]
  },
  {
   "cell_type": "code",
   "execution_count": 11,
   "metadata": {},
   "outputs": [
    {
     "name": "stdout",
     "output_type": "stream",
     "text": [
      "min = 4 max = 9\n"
     ]
    }
   ],
   "source": [
    "# Определение числового идентификатора(индекса), мин и мах значения\n",
    "mi = a_ser.argmin()\n",
    "ma = a_ser.argmax()\n",
    "print('min = '+ str(mi), 'max = ' + str(ma))"
   ]
  },
  {
   "cell_type": "code",
   "execution_count": 12,
   "metadata": {},
   "outputs": [
    {
     "name": "stdout",
     "output_type": "stream",
     "text": [
      "min = 4 max = 9\n"
     ]
    }
   ],
   "source": [
    "# Определение идентификатора мин и мах значения\n",
    "mi = a_ser.idxmin()\n",
    "ma = a_ser.idxmax()\n",
    "print('min = '+ str(mi), 'max = ' + str(ma))"
   ]
  },
  {
   "cell_type": "code",
   "execution_count": 23,
   "metadata": {},
   "outputs": [
    {
     "data": {
      "text/plain": [
       "47"
      ]
     },
     "execution_count": 23,
     "metadata": {},
     "output_type": "execute_result"
    }
   ],
   "source": [
    "# Вычисление суммы\n",
    "s = a_ser.sum()\n",
    "s"
   ]
  },
  {
   "cell_type": "code",
   "execution_count": 35,
   "metadata": {},
   "outputs": [
    {
     "data": {
      "text/plain": [
       "4.27"
      ]
     },
     "execution_count": 35,
     "metadata": {},
     "output_type": "execute_result"
    }
   ],
   "source": [
    "# Вычисление среднего\n",
    "s = a_ser.mean()\n",
    "round(s,2)"
   ]
  },
  {
   "cell_type": "code",
   "execution_count": 34,
   "metadata": {},
   "outputs": [
    {
     "data": {
      "text/plain": [
       "0    5\n",
       "dtype: int64"
      ]
     },
     "execution_count": 34,
     "metadata": {},
     "output_type": "execute_result"
    }
   ],
   "source": [
    "# Вычисление моды (значение, которое встречается в наборе данных чаще всего)\n",
    "m = a_ser.mode()\n",
    "m"
   ]
  },
  {
   "cell_type": "code",
   "execution_count": 26,
   "metadata": {},
   "outputs": [
    {
     "data": {
      "text/plain": [
       "5.0"
      ]
     },
     "execution_count": 26,
     "metadata": {},
     "output_type": "execute_result"
    }
   ],
   "source": [
    "# Вычисление медианы, Медиа́на (от лат. mediāna «середина») \n",
    "# или серединное значение набора чисел — число, \n",
    "# которое находится в середине этого набора, если его упорядочить\n",
    "m = a_ser.median()\n",
    "m"
   ]
  },
  {
   "cell_type": "code",
   "execution_count": 43,
   "metadata": {},
   "outputs": [
    {
     "data": {
      "text/plain": [
       "6.62"
      ]
     },
     "execution_count": 43,
     "metadata": {},
     "output_type": "execute_result"
    }
   ],
   "source": [
    "# Вычисление дисперсии\n",
    "# мера разброса значений случайной величины относительно её математического ожидания\n",
    "v = a_ser.var()\n",
    "round(v,2)"
   ]
  },
  {
   "cell_type": "code",
   "execution_count": 45,
   "metadata": {},
   "outputs": [
    {
     "data": {
      "text/plain": [
       "2.57"
      ]
     },
     "execution_count": 45,
     "metadata": {},
     "output_type": "execute_result"
    }
   ],
   "source": [
    "# Вычисление среднеквадратичного отклонения (Квадратный корень из дисперсии)\n",
    "s = a_ser.std()\n",
    "round(s,2)"
   ]
  },
  {
   "cell_type": "code",
   "execution_count": 47,
   "metadata": {},
   "outputs": [
    {
     "data": {
      "text/plain": [
       "5.0"
      ]
     },
     "execution_count": 47,
     "metadata": {},
     "output_type": "execute_result"
    }
   ],
   "source": [
    "# Определение выборочной квантили (четверти выборки)\n",
    "q = a_ser.quantile()\n",
    "q"
   ]
  },
  {
   "cell_type": "code",
   "execution_count": 50,
   "metadata": {},
   "outputs": [
    {
     "name": "stdout",
     "output_type": "stream",
     "text": [
      "умеренный = 7.5 экстремальный = 15.0\n"
     ]
    }
   ],
   "source": [
    "# выбросы \n",
    "# умеренные удалены ниже первой  или выше третьей от 1,5 IQRб но не больше 3 IQR\n",
    "# экстремальные ниже первой или выше третьей от 3 IQR\n",
    "moderate = 1.5 * q\n",
    "extrem = 3 * q\n",
    "print('умеренный = '+ str(moderate), 'экстремальный = ' + str(extrem))"
   ]
  },
  {
   "cell_type": "code",
   "execution_count": null,
   "metadata": {},
   "outputs": [],
   "source": []
  }
 ],
 "metadata": {
  "kernelspec": {
   "display_name": "Python 3",
   "language": "python",
   "name": "python3"
  },
  "language_info": {
   "codemirror_mode": {
    "name": "ipython",
    "version": 3
   },
   "file_extension": ".py",
   "mimetype": "text/x-python",
   "name": "python",
   "nbconvert_exporter": "python",
   "pygments_lexer": "ipython3",
   "version": "3.8.5"
  }
 },
 "nbformat": 4,
 "nbformat_minor": 4
}
