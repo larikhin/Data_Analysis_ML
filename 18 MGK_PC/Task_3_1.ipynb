{
 "cells": [
  {
   "cell_type": "markdown",
   "metadata": {
    "collapsed": true,
    "id": "tv9Cr947e2kY"
   },
   "source": [
    "# Пример уменьшения размерности"
   ]
  },
  {
   "cell_type": "markdown",
   "metadata": {
    "id": "glZc8mTre2kg"
   },
   "source": [
    "Рассмотрим основные моменты уменьшения размерности на примере из лекции (рукописные цифры). "
   ]
  },
  {
   "cell_type": "markdown",
   "metadata": {
    "id": "s9UY-mrhe2ki"
   },
   "source": [
    "Подключим требуемые библиотеки."
   ]
  },
  {
   "cell_type": "code",
   "execution_count": 1,
   "metadata": {
    "executionInfo": {
     "elapsed": 789,
     "status": "ok",
     "timestamp": 1634231524503,
     "user": {
      "displayName": "Антон Бойцев",
      "photoUrl": "https://lh3.googleusercontent.com/a/default-user=s64",
      "userId": "13003650934133023670"
     },
     "user_tz": -180
    },
    "id": "4K3d7qire2ki"
   },
   "outputs": [],
   "source": [
    "import numpy as np\n",
    "from sklearn.decomposition import PCA\n",
    "from sklearn import datasets\n",
    "import matplotlib\n",
    "import matplotlib.pyplot as plt\n",
    "%matplotlib inline"
   ]
  },
  {
   "cell_type": "markdown",
   "metadata": {
    "id": "Dy1BExvme2kl"
   },
   "source": [
    "Импортируем датасет."
   ]
  },
  {
   "cell_type": "code",
   "execution_count": 2,
   "metadata": {
    "executionInfo": {
     "elapsed": 567,
     "status": "ok",
     "timestamp": 1634231525068,
     "user": {
      "displayName": "Антон Бойцев",
      "photoUrl": "https://lh3.googleusercontent.com/a/default-user=s64",
      "userId": "13003650934133023670"
     },
     "user_tz": -180
    },
    "id": "55slReKVe2km"
   },
   "outputs": [],
   "source": [
    "X = datasets.load_digits().data #Объекты\n",
    "y = datasets.load_digits().target #Отклики"
   ]
  },
  {
   "cell_type": "markdown",
   "metadata": {
    "id": "6nsE4Knqe2kn"
   },
   "source": [
    "Посмотрим, что из себя представляет, например, нулевой объект датасета."
   ]
  },
  {
   "cell_type": "code",
   "execution_count": 3,
   "metadata": {
    "colab": {
     "base_uri": "https://localhost:8080/",
     "height": 350
    },
    "executionInfo": {
     "elapsed": 25,
     "status": "ok",
     "timestamp": 1634231525069,
     "user": {
      "displayName": "Антон Бойцев",
      "photoUrl": "https://lh3.googleusercontent.com/a/default-user=s64",
      "userId": "13003650934133023670"
     },
     "user_tz": -180
    },
    "id": "_LgwXKoue2ko",
    "outputId": "4f133d72-0e04-46c7-fd3a-435c74c041a1"
   },
   "outputs": [
    {
     "name": "stdout",
     "output_type": "stream",
     "text": [
      "[ 0.  0.  5. 13.  9.  1.  0.  0.  0.  0. 13. 15. 10. 15.  5.  0.  0.  3.\n",
      " 15.  2.  0. 11.  8.  0.  0.  4. 12.  0.  0.  8.  8.  0.  0.  5.  8.  0.\n",
      "  0.  9.  8.  0.  0.  4. 11.  0.  1. 12.  7.  0.  0.  2. 14.  5. 10. 12.\n",
      "  0.  0.  0.  0.  6. 13. 10.  0.  0.  0.]\n"
     ]
    },
    {
     "data": {
      "text/plain": [
       "<matplotlib.image.AxesImage at 0x7fa2dceb1e50>"
      ]
     },
     "execution_count": 3,
     "metadata": {},
     "output_type": "execute_result"
    },
    {
     "data": {
      "image/png": "[encoded data removed]",
      "text/plain": [
       "<Figure size 432x288 with 1 Axes>"
      ]
     },
     "metadata": {
      "needs_background": "light"
     },
     "output_type": "display_data"
    }
   ],
   "source": [
    "print(X[0])\n",
    "plt.imshow(X[0].reshape([8,8]), cmap='Greys_r')"
   ]
  },
  {
   "cell_type": "markdown",
   "metadata": {
    "id": "pSpfFjKKe2kq"
   },
   "source": [
    "Уменьшим размерность при помощи библиотеки `sklearn`. Отдельно обратим ваше внимание на параметр `svd_solver` — параметр, отвечающий за способ построения матричного разложения. Чтобы получать согласованные с лекцией результаты, рекомендуется использовать параметр `svd_solver = 'full'`.\n",
    "\n",
    "Оказывается, для того чтобы получить новые координаты объектов, достаточно написать две следующие строчки."
   ]
  },
  {
   "cell_type": "code",
   "execution_count": 4,
   "metadata": {
    "executionInfo": {
     "elapsed": 21,
     "status": "ok",
     "timestamp": 1634231525069,
     "user": {
      "displayName": "Антон Бойцев",
      "photoUrl": "https://lh3.googleusercontent.com/a/default-user=s64",
      "userId": "13003650934133023670"
     },
     "user_tz": -180
    },
    "id": "48X2CUehe2kq"
   },
   "outputs": [],
   "source": [
    "pca = PCA(n_components = 2, svd_solver = 'full') #Создание объекта класса PCA. В качестве параметров выступает количество ГК и метод оптимизации\n",
    "X_transformed = pca.fit_transform(X) #X_transformed — ndarray объектов, где каждый объект описывается двумя ГК"
   ]
  },
  {
   "cell_type": "markdown",
   "metadata": {
    "id": "PnXLmLaKktPb"
   },
   "source": [
    "Выведем полученные новые координаты объекта с индексом 0."
   ]
  },
  {
   "cell_type": "code",
   "execution_count": 5,
   "metadata": {
    "colab": {
     "base_uri": "https://localhost:8080/"
    },
    "executionInfo": {
     "elapsed": 21,
     "status": "ok",
     "timestamp": 1634231525070,
     "user": {
      "displayName": "Антон Бойцев",
      "photoUrl": "https://lh3.googleusercontent.com/a/default-user=s64",
      "userId": "13003650934133023670"
     },
     "user_tz": -180
    },
    "id": "JODvOfLkky8S",
    "outputId": "2084cf86-739b-49cd-8d11-99be894e2278"
   },
   "outputs": [
    {
     "data": {
      "text/plain": [
       "array([-1.25946645, 21.27488348])"
      ]
     },
     "execution_count": 5,
     "metadata": {},
     "output_type": "execute_result"
    }
   ],
   "source": [
    "X_transformed[0]"
   ]
  },
  {
   "cell_type": "markdown",
   "metadata": {
    "id": "nC1KlNqqfoow"
   },
   "source": [
    "Теперь обсудим детали. Матрица весов хранится в поле `components_` класса `pca` и имеет размеры *(количество ГК, начальное количество признаков)*. Это значит, что матрица весов $\\varPhi$, описанная в лекции, связана с матрицей весов `pca.components_`, выдаваемой инструментом, соотношением\n",
    "$$\n",
    "\\varPhi = (\\text{pca.components_})^T.\n",
    "$$"
   ]
  },
  {
   "cell_type": "code",
   "execution_count": 6,
   "metadata": {
    "colab": {
     "base_uri": "https://localhost:8080/"
    },
    "executionInfo": {
     "elapsed": 18,
     "status": "ok",
     "timestamp": 1634231525070,
     "user": {
      "displayName": "Антон Бойцев",
      "photoUrl": "https://lh3.googleusercontent.com/a/default-user=s64",
      "userId": "13003650934133023670"
     },
     "user_tz": -180
    },
    "id": "MjrLciuVfUqL",
    "outputId": "c59de610-2b62-4880-e2b7-e80582a915cf"
   },
   "outputs": [
    {
     "name": "stdout",
     "output_type": "stream",
     "text": [
      "(2, 64)\n"
     ]
    },
    {
     "data": {
      "text/plain": [
       "array([[-1.77484909e-19, -1.73094651e-02, -2.23428835e-01,\n",
       "        -1.35913304e-01, -3.30323092e-02, -9.66340844e-02,\n",
       "        -8.32943805e-03,  2.26900082e-03, -3.20516495e-04,\n",
       "        -1.19308905e-01, -2.44451676e-01,  1.48512745e-01,\n",
       "        -4.67319410e-02, -2.17740744e-01, -1.48136776e-02,\n",
       "         4.47779518e-03, -4.94136398e-05, -7.95419375e-02,\n",
       "         8.33951454e-02,  2.15915342e-01, -1.72126801e-01,\n",
       "        -1.63712098e-01,  2.86444452e-02,  4.23251803e-03,\n",
       "         9.85488574e-05,  6.42319144e-02,  2.54093316e-01,\n",
       "        -3.56771026e-02, -2.09462569e-01, -4.31311420e-02,\n",
       "         5.13118688e-02,  2.13422732e-04, -0.00000000e+00,\n",
       "         1.59950883e-01,  3.68690774e-01,  1.64406827e-01,\n",
       "         8.52007908e-02,  3.72982855e-02,  2.15866980e-02,\n",
       "        -0.00000000e+00,  1.28865585e-03,  1.06945287e-01,\n",
       "         3.03067457e-01,  2.47813041e-01,  2.09637296e-01,\n",
       "         1.22325219e-02, -3.69458497e-02,  1.61485028e-03,\n",
       "         6.93023548e-04, -8.35144239e-03, -5.58598986e-02,\n",
       "         9.30534169e-02,  1.07387720e-01, -1.37734565e-01,\n",
       "        -6.32879466e-02,  9.61671077e-04,  9.55079131e-06,\n",
       "        -1.40786840e-02, -2.35675488e-01, -1.41225588e-01,\n",
       "        -9.15964553e-03, -8.94184677e-02, -3.65977111e-02,\n",
       "        -1.14684954e-02],\n",
       "       [ 3.27805401e-18, -1.01064569e-02, -4.90849204e-02,\n",
       "        -9.43337493e-03, -5.36015636e-02, -1.17755318e-01,\n",
       "        -6.21281792e-02, -7.93574578e-03, -1.63216259e-04,\n",
       "        -2.10167064e-02,  6.03485687e-02, -5.33769554e-03,\n",
       "        -9.19769205e-02, -5.19210493e-02, -5.89354684e-02,\n",
       "        -3.33283413e-03, -4.22872096e-05,  3.62458505e-02,\n",
       "         1.98257337e-01, -4.86386550e-02, -2.25574894e-01,\n",
       "        -4.50541862e-03,  2.67696727e-02, -2.08735745e-04,\n",
       "        -5.66233953e-05,  7.71235121e-02,  1.88447107e-01,\n",
       "        -1.37952518e-01, -2.61042779e-01,  4.98350596e-02,\n",
       "         6.51113775e-02,  4.03200346e-05, -0.00000000e+00,\n",
       "         8.81559918e-02,  8.71737595e-02, -2.70860181e-01,\n",
       "        -2.85291800e-01,  1.66461582e-01,  1.27860543e-01,\n",
       "        -0.00000000e+00,  2.89440157e-04,  5.08304859e-02,\n",
       "         1.30274463e-01, -2.68906468e-01, -3.01575537e-01,\n",
       "         2.40259064e-01,  2.17555551e-01,  1.32726068e-03,\n",
       "         2.86742937e-04,  1.05548282e-02,  1.53370694e-01,\n",
       "        -1.19535173e-01, -9.72508046e-02,  2.85869538e-01,\n",
       "         1.48776446e-01,  5.42290907e-04, -3.34028085e-05,\n",
       "        -1.00791167e-02, -7.02724074e-02,  1.71108112e-02,\n",
       "         1.94296399e-01,  1.76697117e-01,  1.94547053e-02,\n",
       "        -6.69693895e-03]])"
      ]
     },
     "execution_count": 6,
     "metadata": {},
     "output_type": "execute_result"
    }
   ],
   "source": [
    "print(pca.components_.shape) # В нашем случае матрица размер 2 х 64\n",
    "pca.components_"
   ]
  },
  {
   "cell_type": "markdown",
   "metadata": {
    "id": "GIgVz9a7lAaw"
   },
   "source": [
    "Установив связь между тем, что выдает инструмент, и тем, что описано в лекции, наглядно продемонстрируем, что новые координаты объектов можно получить и непосредственным умножением матрицы объектов на матрицу весов. Отметим, что в таком случае исходные координаты объектов необходимо предварительно центрировать."
   ]
  },
  {
   "cell_type": "code",
   "execution_count": 7,
   "metadata": {
    "colab": {
     "base_uri": "https://localhost:8080/"
    },
    "executionInfo": {
     "elapsed": 15,
     "status": "ok",
     "timestamp": 1634231525071,
     "user": {
      "displayName": "Антон Бойцев",
      "photoUrl": "https://lh3.googleusercontent.com/a/default-user=s64",
      "userId": "13003650934133023670"
     },
     "user_tz": -180
    },
    "id": "5zei_aBkizx2",
    "outputId": "c3a6a2a0-74ff-44f3-d12b-e83ea3ffcdb7"
   },
   "outputs": [
    {
     "data": {
      "text/plain": [
       "array([-1.25946645, 21.27488348])"
      ]
     },
     "execution_count": 7,
     "metadata": {},
     "output_type": "execute_result"
    }
   ],
   "source": [
    "# Выведем новые координаты объекта с индексом 0\n",
    "np.dot(X-X.mean(axis=0), pca.components_.T)[0]"
   ]
  },
  {
   "cell_type": "code",
   "execution_count": 8,
   "metadata": {
    "colab": {
     "base_uri": "https://localhost:8080/"
    },
    "executionInfo": {
     "elapsed": 11,
     "status": "ok",
     "timestamp": 1634231525071,
     "user": {
      "displayName": "Антон Бойцев",
      "photoUrl": "https://lh3.googleusercontent.com/a/default-user=s64",
      "userId": "13003650934133023670"
     },
     "user_tz": -180
    },
    "id": "O2MYrUn9kHwR",
    "outputId": "91192d8b-1461-49ce-8472-9e6f827f0d6d"
   },
   "outputs": [
    {
     "data": {
      "text/plain": [
       "array([[-1.25946645, 21.27488348]])"
      ]
     },
     "execution_count": 8,
     "metadata": {},
     "output_type": "execute_result"
    }
   ],
   "source": [
    "# Если использовать библиотечный метод, то все преобразования производятся автоматически\n",
    "pca.transform([X[0]])"
   ]
  },
  {
   "cell_type": "markdown",
   "metadata": {
    "id": "RATwy4Aae2kt"
   },
   "source": [
    "Изобразим первые 100 объектов в виде точек на плоскости. В силу того, что нам известны отклики, отметим одинаковые цифры одинаковым цветом."
   ]
  },
  {
   "cell_type": "code",
   "execution_count": 9,
   "metadata": {
    "colab": {
     "base_uri": "https://localhost:8080/",
     "height": 282
    },
    "executionInfo": {
     "elapsed": 597,
     "status": "ok",
     "timestamp": 1634231525659,
     "user": {
      "displayName": "Антон Бойцев",
      "photoUrl": "https://lh3.googleusercontent.com/a/default-user=s64",
      "userId": "13003650934133023670"
     },
     "user_tz": -180
    },
    "id": "8_dPxBBTe2ku",
    "outputId": "dcd339a5-c5cc-4e9f-adff-0e79042034a8"
   },
   "outputs": [
    {
     "data": {
      "text/plain": [
       "<matplotlib.collections.PathCollection at 0x7fa2dcdc06d0>"
      ]
     },
     "execution_count": 9,
     "metadata": {},
     "output_type": "execute_result"
    },
    {
     "data": {
      "image/png": "[encoded data removed]",
      "text/plain": [
       "<Figure size 432x288 with 1 Axes>"
      ]
     },
     "metadata": {
      "needs_background": "light"
     },
     "output_type": "display_data"
    }
   ],
   "source": [
    "plt.scatter(X_transformed[:101, 0], X_transformed[:101, 1], c=y[:101], edgecolor='none', s=40,cmap='winter')"
   ]
  },
  {
   "cell_type": "markdown",
   "metadata": {
    "id": "HooYjB1he2kv"
   },
   "source": [
    "Если представить, что отклики нам неизвестны, то картина становится гораздо менее радужной. Объединение объектов в группы интуитивно, конечно, возможно, но с существенными оговорками."
   ]
  },
  {
   "cell_type": "code",
   "execution_count": 10,
   "metadata": {
    "colab": {
     "base_uri": "https://localhost:8080/",
     "height": 282
    },
    "executionInfo": {
     "elapsed": 32,
     "status": "ok",
     "timestamp": 1634231525660,
     "user": {
      "displayName": "Антон Бойцев",
      "photoUrl": "https://lh3.googleusercontent.com/a/default-user=s64",
      "userId": "13003650934133023670"
     },
     "user_tz": -180
    },
    "id": "-bBD45aye2kw",
    "outputId": "062b5057-f41e-4859-ceab-c52ecb295346"
   },
   "outputs": [
    {
     "data": {
      "text/plain": [
       "[<matplotlib.lines.Line2D at 0x7fa2dcd589d0>]"
      ]
     },
     "execution_count": 10,
     "metadata": {},
     "output_type": "execute_result"
    },
    {
     "data": {
      "image/png": "[encoded data removed]",
      "text/plain": [
       "<Figure size 432x288 with 1 Axes>"
      ]
     },
     "metadata": {
      "needs_background": "light"
     },
     "output_type": "display_data"
    }
   ],
   "source": [
    "plt.plot(X_transformed[:101, 0], X_transformed[:101, 1], 'o', markerfacecolor='red', markeredgecolor='k', markersize=8)"
   ]
  },
  {
   "cell_type": "markdown",
   "metadata": {
    "id": "lcbN1U7ge2ky"
   },
   "source": [
    "Для дальнейшего анализа нам удобно будет построить не 2, а все 64 ГК (хотя, конечно, это можно было сделать и сразу, а картинку строить лишь по первым двум)."
   ]
  },
  {
   "cell_type": "code",
   "execution_count": 11,
   "metadata": {
    "executionInfo": {
     "elapsed": 8,
     "status": "ok",
     "timestamp": 1634231525660,
     "user": {
      "displayName": "Антон Бойцев",
      "photoUrl": "https://lh3.googleusercontent.com/a/default-user=s64",
      "userId": "13003650934133023670"
     },
     "user_tz": -180
    },
    "id": "P41OZbCAe2k0"
   },
   "outputs": [],
   "source": [
    "pca = PCA(n_components=64, svd_solver='full')\n",
    "X_full = pca.fit(X).transform(X)"
   ]
  },
  {
   "cell_type": "markdown",
   "metadata": {
    "id": "2H6MspY7e2k1"
   },
   "source": [
    "Найдем долю объясненной дисперсии в зависимости от количества используемых ГК."
   ]
  },
  {
   "cell_type": "code",
   "execution_count": 12,
   "metadata": {
    "colab": {
     "base_uri": "https://localhost:8080/"
    },
    "executionInfo": {
     "elapsed": 8,
     "status": "ok",
     "timestamp": 1634231525661,
     "user": {
      "displayName": "Антон Бойцев",
      "photoUrl": "https://lh3.googleusercontent.com/a/default-user=s64",
      "userId": "13003650934133023670"
     },
     "user_tz": -180
    },
    "id": "KBR4_o8_e2k1",
    "outputId": "7dcd2059-08d7-4947-c43c-d5816691b5a3"
   },
   "outputs": [
    {
     "data": {
      "text/plain": [
       "array([0.149, 0.285, 0.403, 0.487, 0.545, 0.594, 0.637, 0.674, 0.707,\n",
       "       0.738, 0.762, 0.785, 0.803, 0.821, 0.835, 0.849, 0.863, 0.875,\n",
       "       0.885, 0.894, 0.903, 0.911, 0.919, 0.926, 0.933, 0.939, 0.945,\n",
       "       0.95 , 0.955, 0.959, 0.963, 0.966, 0.97 , 0.973, 0.976, 0.979,\n",
       "       0.982, 0.984, 0.986, 0.988, 0.99 , 0.992, 0.993, 0.995, 0.996,\n",
       "       0.997, 0.998, 0.999, 0.999, 1.   , 1.   , 1.   , 1.   , 1.   ,\n",
       "       1.   , 1.   , 1.   , 1.   , 1.   , 1.   , 1.   , 1.   , 1.   ,\n",
       "       1.   ])"
      ]
     },
     "execution_count": 12,
     "metadata": {},
     "output_type": "execute_result"
    }
   ],
   "source": [
    "explained_variance = np.round(np.cumsum(pca.explained_variance_ratio_),3)\n",
    "explained_variance"
   ]
  },
  {
   "cell_type": "markdown",
   "metadata": {
    "id": "CsTFabobe2k3"
   },
   "source": [
    "Построим график зависимости доли объясненной дисперсии от количества используемых ГК. Подробное описание произведено в лекции."
   ]
  },
  {
   "cell_type": "code",
   "execution_count": 13,
   "metadata": {
    "colab": {
     "base_uri": "https://localhost:8080/",
     "height": 282
    },
    "executionInfo": {
     "elapsed": 517,
     "status": "ok",
     "timestamp": 1634231526173,
     "user": {
      "displayName": "Антон Бойцев",
      "photoUrl": "https://lh3.googleusercontent.com/a/default-user=s64",
      "userId": "13003650934133023670"
     },
     "user_tz": -180
    },
    "id": "YM3UbCDde2k4",
    "outputId": "8be1de68-ea18-4073-fbc8-db10ea842000"
   },
   "outputs": [
    {
     "data": {
      "text/plain": [
       "[<matplotlib.lines.Line2D at 0x7fa2def3f290>]"
      ]
     },
     "execution_count": 13,
     "metadata": {},
     "output_type": "execute_result"
    },
    {
     "data": {
      "image/png": "[encoded data removed]",
      "text/plain": [
       "<Figure size 432x288 with 1 Axes>"
      ]
     },
     "metadata": {
      "needs_background": "light"
     },
     "output_type": "display_data"
    }
   ],
   "source": [
    "plt.plot(np.arange(64), explained_variance, ls = '-')"
   ]
  },
  {
   "cell_type": "code",
   "execution_count": 13,
   "metadata": {
    "executionInfo": {
     "elapsed": 5,
     "status": "ok",
     "timestamp": 1634231526174,
     "user": {
      "displayName": "Антон Бойцев",
      "photoUrl": "https://lh3.googleusercontent.com/a/default-user=s64",
      "userId": "13003650934133023670"
     },
     "user_tz": -180
    },
    "id": "IzV2Gouke2k4"
   },
   "outputs": [],
   "source": []
  }
 ],
 "metadata": {
  "colab": {
   "collapsed_sections": [],
   "name": "Task_3_1.ipynb",
   "provenance": []
  },
  "kernelspec": {
   "display_name": "Python 3",
   "language": "python",
   "name": "python3"
  },
  "language_info": {
   "codemirror_mode": {
    "name": "ipython",
    "version": 3
   },
   "file_extension": ".py",
   "mimetype": "text/x-python",
   "name": "python",
   "nbconvert_exporter": "python",
   "pygments_lexer": "ipython3",
   "version": "3.8.5"
  }
 },
 "nbformat": 4,
 "nbformat_minor": 1
}
