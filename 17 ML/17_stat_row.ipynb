{
 "cells": [
  {
   "cell_type": "code",
   "execution_count": 36,
   "metadata": {},
   "outputs": [
    {
     "name": "stdout",
     "output_type": "stream",
     "text": [
      "                        region_name  salary\n",
      "47              Республика Дагестан   24550\n",
      "17  Кабардино-Балкарская Республика   25318\n",
      "48             Республика Ингушетия   25663\n",
      "21  Карачаево-Черкесская Республика   25699\n",
      "49              Республика Калмыкия   25719\n",
      "..                              ...     ...\n",
      "33                      Ненецкий АО   77277\n",
      "10                        г. Москва   78946\n",
      "79                Ямало-Ненецкий АО   86560\n",
      "78                     Чукотский АО   96930\n",
      "30                 Магаданская обл.  101662\n",
      "\n",
      "[80 rows x 2 columns]\n"
     ]
    }
   ],
   "source": [
    "# Аттестация Рестораны\n",
    "import numpy as np\n",
    "import pandas as pd\n",
    "data = pd.read_csv('data_1669910787116.csv')\n",
    "data.index += 1 \n",
    "data = data.sort_values(by=['salary'],ascending=True)\n",
    "print(data)"
   ]
  },
  {
   "cell_type": "code",
   "execution_count": 59,
   "metadata": {},
   "outputs": [
    {
     "name": "stdout",
     "output_type": "stream",
     "text": [
      "       region_name  salary\n",
      "34  г. Севастополь   31008              region_name  salary\n",
      "41  Астраханская область   32166         region_name  salary\n",
      "64  Приморский край   42026\n"
     ]
    }
   ],
   "source": [
    "data = pd.DataFrame(data)\n",
    "x=30-1\n",
    "x30=data.iloc[[x]]\n",
    "x=37-1\n",
    "x37=data.iloc[[x]]\n",
    "x=60-1\n",
    "x60=data.iloc[[x]]\n",
    "print(x30,x37,x60)\n",
    "#data = pd.read_csv('data_1669910787116.csv', index_col='ID')\n",
    "#data_lin = (data -  data.min())/(data.max()-data.min())\n",
    "#data['total'] = data_lin['GUESTS']+data_lin['INCOME']+data_lin['STARS']\n",
    "#t = data['total'].sort_values(ascending=False)\n",
    "#print(data)\n",
    "#print(round(data_lin,2))\n",
    "#t"
   ]
  },
  {
   "cell_type": "code",
   "execution_count": 47,
   "metadata": {},
   "outputs": [
    {
     "data": {
      "text/plain": [
       "salary    39393.99\n",
       "dtype: float64"
      ]
     },
     "execution_count": 47,
     "metadata": {},
     "output_type": "execute_result"
    }
   ],
   "source": [
    "#среденее\n",
    "round(data.mean(),2)"
   ]
  },
  {
   "cell_type": "code",
   "execution_count": 48,
   "metadata": {},
   "outputs": [
    {
     "data": {
      "text/plain": [
       "salary    33111.5\n",
       "dtype: float64"
      ]
     },
     "execution_count": 48,
     "metadata": {},
     "output_type": "execute_result"
    }
   ],
   "source": [
    "#медиана\n",
    "round(data.median(),2)"
   ]
  },
  {
   "cell_type": "code",
   "execution_count": 60,
   "metadata": {},
   "outputs": [],
   "source": [
    "data.reset_index(drop=True)\n",
    "data.index+=1\n"
   ]
  },
  {
   "cell_type": "code",
   "execution_count": 63,
   "metadata": {},
   "outputs": [
    {
     "data": {
      "text/html": [
       "<div>\n",
       "<style scoped>\n",
       "    .dataframe tbody tr th:only-of-type {\n",
       "        vertical-align: middle;\n",
       "    }\n",
       "\n",
       "    .dataframe tbody tr th {\n",
       "        vertical-align: top;\n",
       "    }\n",
       "\n",
       "    .dataframe thead th {\n",
       "        text-align: right;\n",
       "    }\n",
       "</style>\n",
       "<table border=\"1\" class=\"dataframe\">\n",
       "  <thead>\n",
       "    <tr style=\"text-align: right;\">\n",
       "      <th></th>\n",
       "      <th>region_name</th>\n",
       "      <th>salary</th>\n",
       "    </tr>\n",
       "  </thead>\n",
       "  <tbody>\n",
       "    <tr>\n",
       "      <th>6</th>\n",
       "      <td>Республика Дагестан</td>\n",
       "      <td>24550</td>\n",
       "    </tr>\n",
       "    <tr>\n",
       "      <th>7</th>\n",
       "      <td>Кабардино-Балкарская Республика</td>\n",
       "      <td>25318</td>\n",
       "    </tr>\n",
       "    <tr>\n",
       "      <th>8</th>\n",
       "      <td>Республика Ингушетия</td>\n",
       "      <td>25663</td>\n",
       "    </tr>\n",
       "    <tr>\n",
       "      <th>9</th>\n",
       "      <td>Карачаево-Черкесская Республика</td>\n",
       "      <td>25699</td>\n",
       "    </tr>\n",
       "    <tr>\n",
       "      <th>10</th>\n",
       "      <td>Республика Калмыкия</td>\n",
       "      <td>25719</td>\n",
       "    </tr>\n",
       "    <tr>\n",
       "      <th>...</th>\n",
       "      <td>...</td>\n",
       "      <td>...</td>\n",
       "    </tr>\n",
       "    <tr>\n",
       "      <th>81</th>\n",
       "      <td>Ненецкий АО</td>\n",
       "      <td>77277</td>\n",
       "    </tr>\n",
       "    <tr>\n",
       "      <th>82</th>\n",
       "      <td>г. Москва</td>\n",
       "      <td>78946</td>\n",
       "    </tr>\n",
       "    <tr>\n",
       "      <th>83</th>\n",
       "      <td>Ямало-Ненецкий АО</td>\n",
       "      <td>86560</td>\n",
       "    </tr>\n",
       "    <tr>\n",
       "      <th>84</th>\n",
       "      <td>Чукотский АО</td>\n",
       "      <td>96930</td>\n",
       "    </tr>\n",
       "    <tr>\n",
       "      <th>85</th>\n",
       "      <td>Магаданская обл.</td>\n",
       "      <td>101662</td>\n",
       "    </tr>\n",
       "  </tbody>\n",
       "</table>\n",
       "<p>80 rows × 2 columns</p>\n",
       "</div>"
      ],
      "text/plain": [
       "                        region_name  salary\n",
       "6               Республика Дагестан   24550\n",
       "7   Кабардино-Балкарская Республика   25318\n",
       "8              Республика Ингушетия   25663\n",
       "9   Карачаево-Черкесская Республика   25699\n",
       "10              Республика Калмыкия   25719\n",
       "..                              ...     ...\n",
       "81                      Ненецкий АО   77277\n",
       "82                        г. Москва   78946\n",
       "83                Ямало-Ненецкий АО   86560\n",
       "84                     Чукотский АО   96930\n",
       "85                 Магаданская обл.  101662\n",
       "\n",
       "[80 rows x 2 columns]"
      ]
     },
     "execution_count": 63,
     "metadata": {},
     "output_type": "execute_result"
    }
   ],
   "source": [
    "data"
   ]
  },
  {
   "cell_type": "code",
   "execution_count": null,
   "metadata": {},
   "outputs": [],
   "source": []
  }
 ],
 "metadata": {
  "kernelspec": {
   "display_name": "Python 3",
   "language": "python",
   "name": "python3"
  },
  "language_info": {
   "codemirror_mode": {
    "name": "ipython",
    "version": 3
   },
   "file_extension": ".py",
   "mimetype": "text/x-python",
   "name": "python",
   "nbconvert_exporter": "python",
   "pygments_lexer": "ipython3",
   "version": "3.8.5"
  }
 },
 "nbformat": 4,
 "nbformat_minor": 4
}
